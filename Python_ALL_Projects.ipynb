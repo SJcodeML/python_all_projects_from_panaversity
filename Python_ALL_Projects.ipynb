{
  "cells": [
    {
      "cell_type": "markdown",
      "metadata": {
        "id": "view-in-github",
        "colab_type": "text"
      },
      "source": [
        "<a href=\"https://colab.research.google.com/github/SJcodeML/python_all_projects_from_panaversity/blob/main/Python_ALL_Projects.ipynb\" target=\"_parent\"><img src=\"https://colab.research.google.com/assets/colab-badge.svg\" alt=\"Open In Colab\"/></a>"
      ]
    },
    {
      "cell_type": "markdown",
      "metadata": {
        "id": "D8EQ5wqjw_Ri"
      },
      "source": [
        "# ***JOKE ***"
      ]
    },
    {
      "cell_type": "code",
      "execution_count": null,
      "metadata": {
        "colab": {
          "base_uri": "https://localhost:8080/"
        },
        "id": "g6Ei4i5Ci_SY",
        "outputId": "d61cc189-56ba-4d12-db72-7c73316352a4"
      },
      "outputs": [
        {
          "name": "stdout",
          "output_type": "stream",
          "text": [
            "what do you want ?JOke\n",
            "JOke\n",
            "Here is a joke for you! Panaversity GPT - Sophia is heading out to the grocery store. A programmer tells her: get a liter of milk, and if they have eggs, get 12. Sophia returns with 13 liters of milk. The programmer asks why and Sophia replies: 'because they had eggs'\n"
          ]
        }
      ],
      "source": [
        "class Bot:\n",
        "    prompt: str = \"what do you want ?\"\n",
        "    sorry: str = \"sorry ! I can tell only jokes \"\n",
        "    joke: str = \"Here is a joke for you! Panaversity GPT - Sophia is heading out to the grocery store. A programmer tells her: get a liter of milk, and if they have eggs, get 12. Sophia returns with 13 liters of milk. The programmer asks why and Sophia replies: 'because they had eggs'\"\n",
        "\n",
        "    def __init__(self):\n",
        "        # Assign class-level attributes to instance variables\n",
        "        self.prompt: str = self.prompt\n",
        "        self.sorry: str = self.sorry\n",
        "        self.joke: str = self.joke\n",
        "\n",
        "    def bot(self) -> None:\n",
        "        user_input: str = input(self.prompt)\n",
        "        print(user_input)\n",
        "\n",
        "        if user_input.lower() == \"joke\":\n",
        "            print(self.joke)\n",
        "        else:\n",
        "            print(self.sorry)\n",
        "\n",
        "my_bot = Bot()\n",
        "my_bot.bot()\n",
        "# Create an instance of the Bot class"
      ]
    },
    {
      "cell_type": "markdown",
      "metadata": {
        "id": "splFKeEpZ2Vh"
      },
      "source": [
        "# **DOUBLE IT**"
      ]
    },
    {
      "cell_type": "markdown",
      "metadata": {
        "id": "3BukbnKjZ0jV"
      },
      "source": []
    },
    {
      "cell_type": "code",
      "execution_count": null,
      "metadata": {
        "colab": {
          "base_uri": "https://localhost:8080/"
        },
        "id": "u0-CT4TZcNNY",
        "outputId": "f17e2253-b2d9-48b8-9cbc-bc9ef9a86613"
      },
      "outputs": [
        {
          "name": "stdout",
          "output_type": "stream",
          "text": [
            "Enter a number : 2\n",
            "4 8 16 32 64 128 "
          ]
        }
      ],
      "source": [
        "number_taken:int = int(input(\"Enter a number : \"))\n",
        "\n",
        "class Double_It:\n",
        "  def __init__(self):\n",
        "    self.number_taken:int = number_taken\n",
        "\n",
        "  def Take_number(self):\n",
        "    while self.number_taken <= 100:\n",
        "\n",
        "      self.number_taken = self.number_taken*2\n",
        "      print(self.number_taken, end=\" \")\n",
        "\n",
        "# doubler=Double_It(number_taken)\n",
        "# doubler.Take_number()\n",
        "double=Double_It()\n",
        "double.Take_number()"
      ]
    },
    {
      "cell_type": "markdown",
      "metadata": {
        "id": "-030tfdrkj5c"
      },
      "source": [
        "### **TAKEOFF COUNTER**"
      ]
    },
    {
      "cell_type": "markdown",
      "metadata": {
        "id": "oAc-uIRlw9YF"
      },
      "source": []
    },
    {
      "cell_type": "code",
      "execution_count": null,
      "metadata": {
        "colab": {
          "base_uri": "https://localhost:8080/"
        },
        "id": "JWR6pNwjcfgN",
        "outputId": "0a6d165d-00d5-47e9-da66-91b5fa016ae6"
      },
      "outputs": [
        {
          "name": "stdout",
          "output_type": "stream",
          "text": [
            "10\n",
            "9\n",
            "8\n",
            "7\n",
            "6\n",
            "5\n",
            "4\n",
            "3\n",
            "2\n",
            "1\n",
            "LiftOFF!\n"
          ]
        }
      ],
      "source": [
        "# solution with range\n",
        "\n",
        "# import time\n",
        "\n",
        "# numbers=[1,2,3,4,5,6,7,8,9,10]\n",
        "\n",
        "# for i in range(10, 0 , -1):\n",
        "\n",
        "#   time.sleep(1)\n",
        "#   print(i)\n",
        "\n",
        "\n",
        "# print(\"LiftOFF!\")\n",
        "\n",
        "\n",
        "# for loop with list\n",
        "class Timer :\n",
        "  def __init__(self):\n",
        "    self.numbers:list[int]=[10,9,8,7,6,5,4,3,2,1]\n",
        "\n",
        "  def Countdown_timer (self):\n",
        "      for i in self.numbers:\n",
        "        time.sleep(1)\n",
        "        print(i)\n",
        "\n",
        "\n",
        "      print(\"LiftOFF!\")\n",
        "\n",
        "timer=Timer()\n",
        "timer.Countdown_timer()\n"
      ]
    },
    {
      "cell_type": "markdown",
      "metadata": {
        "id": "sQj9D6LZxIW6"
      },
      "source": [
        "# **PYTHON PROJECTS TO SUBMIT IN A FORM**\n"
      ]
    },
    {
      "cell_type": "markdown",
      "metadata": {
        "id": "htDMEaKsyBQP"
      },
      "source": [
        "# 1: **Mad libs Python Project**"
      ]
    },
    {
      "cell_type": "code",
      "execution_count": null,
      "metadata": {
        "id": "7FNprA4-xcUC"
      },
      "outputs": [],
      "source": [
        "print(\"Read the folowing paragraph carefully and fill the appropriate words!\")\n",
        "\n",
        "noun1:str = str(input(\"what noun is most appropriate here for you\"))\n",
        "noun2:str = str(input(\"what noun is most appropriate here for you\"))\n",
        "noun3:str = str(input(\"what noun is most appropriate here for you\"))\n",
        "favourite_teacher:str=str(input(\"Fill it with your favourite teacher\"))\n",
        "print(\"Here are your thoughts in the form of WORDS......\")\n",
        "\n",
        "madlib = f\"A teacher is not just an instructor but a mentor who shapes the minds and {noun1} of future generations. They inspire curiosity, encourage {noun2}, and cultivate a love for learning. With patience and dedication, they help students navigate challenges, fostering both academic and personal growth. A great teacher leaves a lasting impact, guiding their students to discover their potential and pursue their {noun3}. Their influence extends far beyond the classroom, instilling values that last a lifetime.Perhaps Today I am saying this for my favourite teacher {favourite_teacher}\"\n",
        "print(madlib)"
      ]
    },
    {
      "cell_type": "markdown",
      "metadata": {
        "id": "qCleYcXXw5us"
      },
      "source": [
        "##**2: Guess the Number Game Python Project (computer)**"
      ]
    },
    {
      "cell_type": "code",
      "execution_count": null,
      "metadata": {
        "colab": {
          "base_uri": "https://localhost:8080/"
        },
        "id": "egFPiNNjqEE4",
        "outputId": "adc7f5b9-fc50-4fce-c4e3-ad2fec220c0e"
      },
      "outputs": [
        {
          "name": "stdout",
          "output_type": "stream",
          "text": [
            "9\n",
            "Guess the Number15\n",
            "Number is Too High!\n",
            "Guess the Number10\n",
            "Number is Too Low!\n",
            "Guess the Number12\n",
            "Number is Too High!\n",
            "Guess the Number11\n",
            "Congrats! You Won!\n"
          ]
        }
      ],
      "source": [
        "import random\n",
        "import time\n",
        "\n",
        "def Guess(x):\n",
        "  random_number=random.randint(1,x)\n",
        "  guess=0\n",
        "\n",
        "  while  guess != random_number:\n",
        "      guess:int=int(input(\"Guess the Number\"))\n",
        "\n",
        "      if guess > random_number:\n",
        "        print(\"Number is Too High!\")\n",
        "      elif guess < random_number:\n",
        "        print (\"Number is Too Low!\")\n",
        "\n",
        "  print(\"Congrats! You Won!\")\n",
        "\n",
        "Guess(15)"
      ]
    },
    {
      "cell_type": "markdown",
      "metadata": {
        "id": "td-TGmfn5qzs"
      },
      "source": [
        "#**3: Guess the Number Game Python Project (user)**"
      ]
    },
    {
      "cell_type": "code",
      "execution_count": null,
      "metadata": {
        "colab": {
          "base_uri": "https://localhost:8080/"
        },
        "id": "PmvqL9bP1u7y",
        "outputId": "bb3bba7f-96aa-4683-bd30-0da2c1772fd7"
      },
      "outputs": [
        {
          "name": "stdout",
          "output_type": "stream",
          "text": [
            "Is 4 is too Low , or is too High , or it is corrected H\n",
            "Is 17 is too Low , or is too High , or it is corrected l\n",
            "Is 25 is too Low , or is too High , or it is corrected c\n",
            "Computer guess the number correctly!25 is the right answer\n"
          ]
        }
      ],
      "source": [
        "import random\n",
        "def computer_guess(x):\n",
        "      low = 1\n",
        "      high = x\n",
        "      feedback=''\n",
        "      while feedback !='c':\n",
        "        if low!= high:\n",
        "          guess=random.randint(low,high)\n",
        "        else :\n",
        "          guess=low\n",
        "        feedback=(input(f\"Is {guess} is too Low , or is too High , or it is corrected \"))\n",
        "        if feedback == \"h\":\n",
        "          high=guess - 1\n",
        "        elif feedback == \"L\":\n",
        "          high =guess + 1\n",
        "\n",
        "      print(f\"Computer guess the number correctly! {guess} is the right answer\")\n",
        "\n",
        "computer_guess(25)"
      ]
    },
    {
      "cell_type": "markdown",
      "metadata": {
        "id": "slIq3LwoDfaB"
      },
      "source": [
        "# **4: Rock, paper, scissors Python Project**"
      ]
    },
    {
      "cell_type": "code",
      "execution_count": null,
      "metadata": {
        "colab": {
          "base_uri": "https://localhost:8080/"
        },
        "id": "5jJ4UVKt_pUW",
        "outputId": "49fe5b20-008f-41be-e78a-a83dbebbe069"
      },
      "outputs": [
        {
          "name": "stdout",
          "output_type": "stream",
          "text": [
            "What is your choice, \"r\" for rock , \"p\" for paper . \"s\" for scissor r\n",
            "You Won!!!\n"
          ]
        }
      ],
      "source": [
        "# condition for winning the player\n",
        "# r>s, s>p , p>r\n",
        "import random\n",
        "\n",
        "def is_win(player,opponent):\n",
        "  if (player == 'r' and opponent == 's') or (player == 's' and opponent == 'p') or (player == 'p' and opponent =='r') :\n",
        "    return True\n",
        "\n",
        "\n",
        "def play ():\n",
        "  user = input ('What is your choice, \"r\" for rock , \"p\" for paper . \"s\" for scissor ')\n",
        "  computer = random.choice(['r','p','s'])\n",
        "\n",
        "  if user == computer:\n",
        "       return 'tie'\n",
        "\n",
        "  if is_win(user ,computer):\n",
        "      return \"You Won!!!\"\n",
        "\n",
        "  return \"You Lost\"\n",
        "\n",
        "\n",
        "\n",
        "print(play())\n",
        "\n",
        "\n",
        "\n",
        "\n",
        "\n",
        "\n"
      ]
    },
    {
      "cell_type": "markdown",
      "metadata": {
        "id": "6lfgj_U_I8Vy"
      },
      "source": [
        "# **5: Hangman Python Project**"
      ]
    },
    {
      "cell_type": "code",
      "execution_count": null,
      "metadata": {
        "colab": {
          "base_uri": "https://localhost:8080/"
        },
        "id": "uk9KGXNWDmZP",
        "outputId": "b1abcad4-8993-440e-e355-fae08295ba83"
      },
      "outputs": [
        {
          "output_type": "stream",
          "name": "stdout",
          "text": [
            "Guess the word:  _ _ _ _ _ _ \n"
          ]
        }
      ],
      "source": [
        "import random\n",
        "\n",
        "hangman_words = [\n",
        "    \"apple\",\n",
        "    \"giraffe\",\n",
        "    \"puzzle\",\n",
        "    \"umbrella\",\n",
        "    \"banana\",\n",
        "    \"kiwi\",\n",
        "    \"elephant\",\n",
        "    \"computer\",\n",
        "    \"storm\",\n",
        "    \"balloon\",\n",
        "    \"jigsaw\",\n",
        "    \"pancake\",\n",
        "    \"mystery\",\n",
        "    \"rocket\",\n",
        "    \"sunflower\",\n",
        "    \"treasure\",\n",
        "    \"ocean\",\n",
        "    \"magnet\",\n",
        "    \"whisper\",\n",
        "    \"dragon\"\n",
        "]\n",
        "\n",
        "random_word = random.choice(hangman_words)  # select a random word from the list\n",
        "guessed_letters = []  # keep track of guessed letters\n",
        "\n",
        "# Displaying underscores for each letter in the random word\n",
        "display_word = '_ ' * len(random_word)\n",
        "print(\"Guess the word: \", display_word)\n",
        "\n",
        "# Introduce a loop to allow the user to guess letters\n",
        "while '_' in display_word:  # continue until all letters are guessed\n",
        "    user_guess = input(\"Guess a letter: \").lower()  # ask for a letter guess and convert to lowercase\n",
        "\n",
        "    if len(user_guess) != 1:  # prevent inputting more than one letter\n",
        "        print(\"Please enter only one letter.\")\n",
        "        continue\n",
        "\n",
        "    if user_guess in guessed_letters:  # check if the letter has already been guessed\n",
        "        print(\"You've already guessed that letter. Try again.\")\n",
        "        continue\n",
        "\n",
        "    guessed_letters.append(user_guess)  # add the guessed letter to the list\n",
        "\n",
        "    if user_guess in random_word:  # check if the guess is in the word\n",
        "        print(\"Good guess!\")\n",
        "        # Update display_word with the guessed letter\n",
        "        display_word = ''.join([letter if letter in guessed_letters else '_' for letter in random_word])\n",
        "    else:\n",
        "        print(\"Sorry, that's not in the word.\")\n",
        "\n",
        "    print(\"Current word: \", display_word)  # show the current state of the word\n",
        "\n",
        "print(f\"Congratulations! You've guessed the word: {random_word}!\")  # when the user guesses the word"
      ]
    },
    {
      "cell_type": "markdown",
      "metadata": {
        "id": "0-PYun33X_p9"
      },
      "source": [
        "# **6: Countdown Timer Python Project**"
      ]
    },
    {
      "cell_type": "code",
      "execution_count": null,
      "metadata": {
        "id": "NpAU_3ipYIOK"
      },
      "outputs": [],
      "source": [
        "\n",
        "import time\n",
        "\n",
        "def countdown(t):\n",
        "    while t:\n",
        "      mins,secs= divmod(t, 60)\n",
        "      timer = '{:02d}:{:02d}'.format(mins, secs)\n",
        "      # print(f\"\\033[2K\\r{timer}\", end=\"\")\n",
        "      print (timer , end=\"\\n\")\n",
        "      time.sleep(1)\n",
        "      t -= 1\n",
        "\n",
        "    print(\"\\nTimer is completed!\")\n",
        "\n",
        "t=int(input(\"Enter the time in seconds : \"))\n",
        "countdown(int(t))"
      ]
    },
    {
      "cell_type": "markdown",
      "metadata": {
        "id": "9n7fqzEjXppo"
      },
      "source": [
        "# **7: Password Generator Python Project**"
      ]
    },
    {
      "cell_type": "code",
      "execution_count": null,
      "metadata": {
        "colab": {
          "base_uri": "https://localhost:8080/"
        },
        "id": "idbPCt0UX9gJ",
        "outputId": "06874fdb-48a4-4efe-e9e2-7d109d500b79"
      },
      "outputs": [
        {
          "name": "stdout",
          "output_type": "stream",
          "text": [
            "How many passwords you wanna generate: 9\n",
            "Enter your password length: 9\n",
            "Here are your passwords\n",
            "4k?Mq#kjY\n",
            "zEiB2\"e4v\n",
            "#k>OI?#W\\\n",
            "Sblq$p<un\n",
            "4|G?w4qS9\n",
            "0KjK2QG6$\n",
            "(VSgy/XpA\n",
            "M'e^`klr.\n",
            "Dv!J._Ql}\n"
          ]
        }
      ],
      "source": [
        "import random\n",
        "\n",
        "chars=\"ABCDEFGHIJKLMNOPQRSTUVWXYZabcdefghijklmnopqrstuvwxyz0123456789!\\\"#$%&'()*+,-./:;<=>?@[\\\\]^_`{|}~\"\n",
        "\n",
        "number= int(input(\"How many passwords you wanna generate: \"))\n",
        "length =int(input(\"Enter your password length: \"))\n",
        "\n",
        "print(\"Here are your passwords\")\n",
        "\n",
        "for pwd in range(number):\n",
        "   passwords=''\n",
        "   for c in range(length):\n",
        "     passwords += random.choice(chars)\n",
        "   print(passwords)"
      ]
    }
  ],
  "metadata": {
    "colab": {
      "provenance": [],
      "authorship_tag": "ABX9TyM7apoZ9XgrxGMqiQNgpPoN",
      "include_colab_link": true
    },
    "kernelspec": {
      "display_name": "Python 3",
      "name": "python3"
    },
    "language_info": {
      "name": "python"
    }
  },
  "nbformat": 4,
  "nbformat_minor": 0
}