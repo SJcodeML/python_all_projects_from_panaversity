{
  "nbformat": 4,
  "nbformat_minor": 0,
  "metadata": {
    "colab": {
      "provenance": [],
      "authorship_tag": "ABX9TyNMyf7WkccprY7w8Dt9vCg/",
      "include_colab_link": true
    },
    "kernelspec": {
      "name": "python3",
      "display_name": "Python 3"
    },
    "language_info": {
      "name": "python"
    }
  },
  "cells": [
    {
      "cell_type": "markdown",
      "metadata": {
        "id": "view-in-github",
        "colab_type": "text"
      },
      "source": [
        "<a href=\"https://colab.research.google.com/github/SJcodeML/python_all_projects_from_panaversity/blob/main/Python_ALL_Projects.ipynb\" target=\"_parent\"><img src=\"https://colab.research.google.com/assets/colab-badge.svg\" alt=\"Open In Colab\"/></a>"
      ]
    },
    {
      "cell_type": "markdown",
      "source": [
        "# ***JOKE ***"
      ],
      "metadata": {
        "id": "D8EQ5wqjw_Ri"
      }
    },
    {
      "source": [
        "class Bot:\n",
        "    prompt: str = \"what do you want ?\"\n",
        "    sorry: str = \"sorry ! I can tell only jokes \"\n",
        "    joke: str = \"Here is a joke for you! Panaversity GPT - Sophia is heading out to the grocery store. A programmer tells her: get a liter of milk, and if they have eggs, get 12. Sophia returns with 13 liters of milk. The programmer asks why and Sophia replies: 'because they had eggs'\"\n",
        "\n",
        "    def __init__(self):\n",
        "        # Assign class-level attributes to instance variables\n",
        "        self.prompt: str = self.prompt\n",
        "        self.sorry: str = self.sorry\n",
        "        self.joke: str = self.joke\n",
        "\n",
        "    def bot(self) -> None:\n",
        "        user_input: str = input(self.prompt)\n",
        "        print(user_input)\n",
        "\n",
        "        if user_input.lower() == \"joke\":\n",
        "            print(self.joke)\n",
        "        else:\n",
        "            print(self.sorry)\n",
        "\n",
        "my_bot = Bot()\n",
        "my_bot.bot()\n",
        "# Create an instance of the Bot class"
      ],
      "cell_type": "code",
      "metadata": {
        "colab": {
          "base_uri": "https://localhost:8080/"
        },
        "id": "g6Ei4i5Ci_SY",
        "outputId": "d61cc189-56ba-4d12-db72-7c73316352a4"
      },
      "execution_count": null,
      "outputs": [
        {
          "output_type": "stream",
          "name": "stdout",
          "text": [
            "what do you want ?JOke\n",
            "JOke\n",
            "Here is a joke for you! Panaversity GPT - Sophia is heading out to the grocery store. A programmer tells her: get a liter of milk, and if they have eggs, get 12. Sophia returns with 13 liters of milk. The programmer asks why and Sophia replies: 'because they had eggs'\n"
          ]
        }
      ]
    },
    {
      "cell_type": "markdown",
      "source": [
        "# **DOUBLE IT**"
      ],
      "metadata": {
        "id": "splFKeEpZ2Vh"
      }
    },
    {
      "cell_type": "markdown",
      "source": [],
      "metadata": {
        "id": "3BukbnKjZ0jV"
      }
    },
    {
      "cell_type": "code",
      "source": [
        "number_taken:int = int(input(\"Enter a number : \"))\n",
        "\n",
        "class Double_It:\n",
        "  def __init__(self):\n",
        "    self.number_taken:int = number_taken\n",
        "\n",
        "  def Take_number(self):\n",
        "    while self.number_taken <= 100:\n",
        "\n",
        "      self.number_taken = self.number_taken*2\n",
        "      print(self.number_taken, end=\" \")\n",
        "\n",
        "# doubler=Double_It(number_taken)\n",
        "# doubler.Take_number()\n",
        "double=Double_It()\n",
        "double.Take_number()"
      ],
      "metadata": {
        "colab": {
          "base_uri": "https://localhost:8080/"
        },
        "id": "u0-CT4TZcNNY",
        "outputId": "f17e2253-b2d9-48b8-9cbc-bc9ef9a86613"
      },
      "execution_count": null,
      "outputs": [
        {
          "output_type": "stream",
          "name": "stdout",
          "text": [
            "Enter a number : 2\n",
            "4 8 16 32 64 128 "
          ]
        }
      ]
    },
    {
      "cell_type": "markdown",
      "source": [
        "### **TAKEOFF COUNTER**"
      ],
      "metadata": {
        "id": "-030tfdrkj5c"
      }
    },
    {
      "cell_type": "markdown",
      "source": [],
      "metadata": {
        "id": "oAc-uIRlw9YF"
      }
    },
    {
      "cell_type": "code",
      "source": [
        "# solution with range\n",
        "\n",
        "# import time\n",
        "\n",
        "# numbers=[1,2,3,4,5,6,7,8,9,10]\n",
        "\n",
        "# for i in range(10, 0 , -1):\n",
        "\n",
        "#   time.sleep(1)\n",
        "#   print(i)\n",
        "\n",
        "\n",
        "# print(\"LiftOFF!\")\n",
        "\n",
        "\n",
        "# for loop with list\n",
        "class Timer :\n",
        "  def __init__(self):\n",
        "    self.numbers:list[int]=[10,9,8,7,6,5,4,3,2,1]\n",
        "\n",
        "  def Countdown_timer (self):\n",
        "      for i in self.numbers:\n",
        "        time.sleep(1)\n",
        "        print(i)\n",
        "\n",
        "\n",
        "      print(\"LiftOFF!\")\n",
        "\n",
        "timer=Timer()\n",
        "timer.Countdown_timer()\n"
      ],
      "metadata": {
        "colab": {
          "base_uri": "https://localhost:8080/"
        },
        "id": "JWR6pNwjcfgN",
        "outputId": "0a6d165d-00d5-47e9-da66-91b5fa016ae6"
      },
      "execution_count": null,
      "outputs": [
        {
          "output_type": "stream",
          "name": "stdout",
          "text": [
            "10\n",
            "9\n",
            "8\n",
            "7\n",
            "6\n",
            "5\n",
            "4\n",
            "3\n",
            "2\n",
            "1\n",
            "LiftOFF!\n"
          ]
        }
      ]
    },
    {
      "cell_type": "markdown",
      "source": [
        "# PYTHON PROJECTS TO SUBMIT TO SUBMIT IN A **FORM**\n"
      ],
      "metadata": {
        "id": "sQj9D6LZxIW6"
      }
    },
    {
      "cell_type": "markdown",
      "source": [
        "# 1: **Mad libs Python Project**"
      ],
      "metadata": {
        "id": "htDMEaKsyBQP"
      }
    },
    {
      "cell_type": "code",
      "source": [],
      "metadata": {
        "id": "7FNprA4-xcUC"
      },
      "execution_count": null,
      "outputs": []
    },
    {
      "cell_type": "markdown",
      "source": [
        "##**2: Guess the Number Game Python Project (computer)**"
      ],
      "metadata": {
        "id": "qCleYcXXw5us"
      }
    },
    {
      "cell_type": "code",
      "source": [
        "import random\n",
        "import time\n",
        "\n",
        "def Guess(x):\n",
        "  random_number=random.randint(1,x)\n",
        "  guess=0\n",
        "\n",
        "  while  guess != random_number:\n",
        "      guess:int=int(input(\"Guess the Number\"))\n",
        "\n",
        "      if guess > random_number:\n",
        "        print(\"Number is Too High!\")\n",
        "      elif guess < random_number:\n",
        "        print (\"Number is Too Low!\")\n",
        "\n",
        "  print(\"Congrats! You Won!\")\n",
        "\n",
        "Guess(15)"
      ],
      "metadata": {
        "colab": {
          "base_uri": "https://localhost:8080/"
        },
        "id": "egFPiNNjqEE4",
        "outputId": "adc7f5b9-fc50-4fce-c4e3-ad2fec220c0e"
      },
      "execution_count": null,
      "outputs": [
        {
          "output_type": "stream",
          "name": "stdout",
          "text": [
            "9\n",
            "Guess the Number15\n",
            "Number is Too High!\n",
            "Guess the Number10\n",
            "Number is Too Low!\n",
            "Guess the Number12\n",
            "Number is Too High!\n",
            "Guess the Number11\n",
            "Congrats! You Won!\n"
          ]
        }
      ]
    },
    {
      "cell_type": "markdown",
      "source": [
        "#**3: Guess the Number Game Python Project (user)**"
      ],
      "metadata": {
        "id": "td-TGmfn5qzs"
      }
    },
    {
      "cell_type": "code",
      "source": [
        "import random\n",
        "def computer_guess(x):\n",
        "      low = 1\n",
        "      high = x\n",
        "      feedback=''\n",
        "      while feedback !='c':\n",
        "        if low!= high:\n",
        "          guess=random.randint(low,high)\n",
        "        else :\n",
        "          guess=low\n",
        "        feedback=(input(f\"Is {guess} is too Low , or is too High , or it is corrected \"))\n",
        "        if feedback == \"h\":\n",
        "          high=guess - 1\n",
        "        elif feedback == \"L\":\n",
        "          high =guess + 1\n",
        "\n",
        "      print(f\"Computer guess the number correctly! {guess} is the right answer\")\n",
        "\n",
        "computer_guess(25)"
      ],
      "metadata": {
        "id": "PmvqL9bP1u7y",
        "colab": {
          "base_uri": "https://localhost:8080/"
        },
        "outputId": "bb3bba7f-96aa-4683-bd30-0da2c1772fd7"
      },
      "execution_count": null,
      "outputs": [
        {
          "output_type": "stream",
          "name": "stdout",
          "text": [
            "Is 4 is too Low , or is too High , or it is corrected H\n",
            "Is 17 is too Low , or is too High , or it is corrected l\n",
            "Is 25 is too Low , or is too High , or it is corrected c\n",
            "Computer guess the number correctly!25 is the right answer\n"
          ]
        }
      ]
    },
    {
      "cell_type": "markdown",
      "source": [
        "# **4: Rock, paper, scissors Python Project**"
      ],
      "metadata": {
        "id": "slIq3LwoDfaB"
      }
    },
    {
      "cell_type": "code",
      "source": [
        "# condition for winning the player\n",
        "# r>s, s>p , p>r\n",
        "import random\n",
        "\n",
        "def is_win(player,opponent):\n",
        "  if (player == 'r' and opponent == 's') or (player == 's' and opponent == 'p') or (player == 'p' and opponent =='r') :\n",
        "    return True\n",
        "\n",
        "\n",
        "def play ():\n",
        "  user = input ('What is your choice, \"r\" for rock , \"p\" for paper . \"s\" for scissor ')\n",
        "  computer = random.choice(['r','p','s'])\n",
        "\n",
        "  if user == computer:\n",
        "       return 'tie'\n",
        "\n",
        "  if is_win(user ,computer):\n",
        "      return \"You Won!!!\"\n",
        "\n",
        "  return \"You Lost\"\n",
        "\n",
        "\n",
        "\n",
        "print(play())\n",
        "\n",
        "\n",
        "\n",
        "\n",
        "\n",
        "\n"
      ],
      "metadata": {
        "colab": {
          "base_uri": "https://localhost:8080/"
        },
        "id": "5jJ4UVKt_pUW",
        "outputId": "49fe5b20-008f-41be-e78a-a83dbebbe069"
      },
      "execution_count": null,
      "outputs": [
        {
          "output_type": "stream",
          "name": "stdout",
          "text": [
            "What is your choice, \"r\" for rock , \"p\" for paper . \"s\" for scissor r\n",
            "You Won!!!\n"
          ]
        }
      ]
    },
    {
      "cell_type": "markdown",
      "source": [
        "# **5: Hangman Python Project**"
      ],
      "metadata": {
        "id": "6lfgj_U_I8Vy"
      }
    },
    {
      "cell_type": "code",
      "source": [],
      "metadata": {
        "id": "ruC2Nn6jGBTP"
      },
      "execution_count": null,
      "outputs": []
    },
    {
      "cell_type": "markdown",
      "source": [
        "# **6: Countdown Timer Python Project**"
      ],
      "metadata": {
        "id": "0-PYun33X_p9"
      }
    },
    {
      "cell_type": "code",
      "source": [
        "\n",
        "import time\n",
        "\n",
        "def countdown(t):\n",
        "    while t:\n",
        "      mins,secs= divmod(t, 60)\n",
        "      timer = '{:02d}:{:02d}'.format(mins, secs)\n",
        "      # print(f\"\\033[2K\\r{timer}\", end=\"\")\n",
        "      print (timer , end=\"\\n\")\n",
        "      time.sleep(1)\n",
        "      t -= 1\n",
        "\n",
        "    print(\"\\nTimer is completed!\")\n",
        "\n",
        "t=int(input(\"Enter the time in seconds : \"))\n",
        "countdown(int(t))"
      ],
      "metadata": {
        "colab": {
          "base_uri": "https://localhost:8080/"
        },
        "id": "NpAU_3ipYIOK",
        "outputId": "6f691989-4ed2-455f-c3cf-7b32734a4e82"
      },
      "execution_count": null,
      "outputs": [
        {
          "output_type": "stream",
          "name": "stdout",
          "text": [
            "Enter the time in seconds : 8\n",
            "00:08\n",
            "00:07\n",
            "00:06\n",
            "00:05\n",
            "00:04\n",
            "00:03\n",
            "00:02\n",
            "00:01\n",
            "\n",
            "Timer is completed!\n"
          ]
        }
      ]
    },
    {
      "cell_type": "markdown",
      "source": [
        "# **7: Password Generator Python Project**"
      ],
      "metadata": {
        "id": "9n7fqzEjXppo"
      }
    },
    {
      "cell_type": "code",
      "source": [
        "import random\n",
        "\n",
        "chars=\"ABCDEFGHIJKLMNOPQRSTUVWXYZabcdefghijklmnopqrstuvwxyz0123456789!\\\"#$%&'()*+,-./:;<=>?@[\\\\]^_`{|}~\"\n",
        "\n",
        "number= int(input(\"How many passwords you wanna generate: \"))\n",
        "length =int(input(\"Enter your password length: \"))\n",
        "\n",
        "print(\"Here are your passwords\")\n",
        "\n",
        "for pwd in range(number):\n",
        "   passwords=''\n",
        "   for c in range(length):\n",
        "     passwords += random.choice(chars)\n",
        "   print(passwords)"
      ],
      "metadata": {
        "colab": {
          "base_uri": "https://localhost:8080/"
        },
        "id": "idbPCt0UX9gJ",
        "outputId": "06874fdb-48a4-4efe-e9e2-7d109d500b79"
      },
      "execution_count": null,
      "outputs": [
        {
          "output_type": "stream",
          "name": "stdout",
          "text": [
            "How many passwords you wanna generate: 9\n",
            "Enter your password length: 9\n",
            "Here are your passwords\n",
            "4k?Mq#kjY\n",
            "zEiB2\"e4v\n",
            "#k>OI?#W\\\n",
            "Sblq$p<un\n",
            "4|G?w4qS9\n",
            "0KjK2QG6$\n",
            "(VSgy/XpA\n",
            "M'e^`klr.\n",
            "Dv!J._Ql}\n"
          ]
        }
      ]
    },
    {
      "cell_type": "markdown",
      "source": [
        "# **8:  Create a Python Streamlit BMI Calculator Web App in Just 6 Minutes**"
      ],
      "metadata": {
        "id": "SQ0uitCnYJ4G"
      }
    },
    {
      "cell_type": "code",
      "source": [
        "# Install required libraries\n",
        "!pip install streamlit pyngrok\n",
        "\n",
        "# Save the Streamlit app code to a Python file\n",
        "%%writefile app.py\n",
        "import streamlit as st\n",
        "\n",
        "st.title(\"BMI Calculator\")\n",
        "\n",
        "height = st.slider(\"Enter your height (in cm):\", 100, 250, 175)\n",
        "weight = st.slider(\"Enter your weight (in kg)\", 40, 200, 70)\n",
        "\n",
        "bmi = weight / ((height / 100) ** 2)\n",
        "\n",
        "st.write(f\"Your BMI is {bmi:.2f}\")\n",
        "\n",
        "# Now, run the app\n",
        "!streamlit run app.py & npx localtunnel --port 8501"
      ],
      "metadata": {
        "colab": {
          "base_uri": "https://localhost:8080/"
        },
        "id": "yPE6_8Gs2Cz7",
        "outputId": "3441b822-e239-48f3-d550-bcdc4d8fa47f"
      },
      "execution_count": null,
      "outputs": [
        {
          "output_type": "stream",
          "name": "stdout",
          "text": [
            "Requirement already satisfied: streamlit in /usr/local/lib/python3.11/dist-packages (1.42.1)\n",
            "Requirement already satisfied: pyngrok in /usr/local/lib/python3.11/dist-packages (7.2.3)\n",
            "Requirement already satisfied: altair<6,>=4.0 in /usr/local/lib/python3.11/dist-packages (from streamlit) (5.5.0)\n",
            "Requirement already satisfied: blinker<2,>=1.0.0 in /usr/local/lib/python3.11/dist-packages (from streamlit) (1.9.0)\n",
            "Requirement already satisfied: cachetools<6,>=4.0 in /usr/local/lib/python3.11/dist-packages (from streamlit) (5.5.1)\n",
            "Requirement already satisfied: click<9,>=7.0 in /usr/local/lib/python3.11/dist-packages (from streamlit) (8.1.8)\n",
            "Requirement already satisfied: numpy<3,>=1.23 in /usr/local/lib/python3.11/dist-packages (from streamlit) (1.26.4)\n",
            "Requirement already satisfied: packaging<25,>=20 in /usr/local/lib/python3.11/dist-packages (from streamlit) (24.2)\n",
            "Requirement already satisfied: pandas<3,>=1.4.0 in /usr/local/lib/python3.11/dist-packages (from streamlit) (2.2.2)\n",
            "Requirement already satisfied: pillow<12,>=7.1.0 in /usr/local/lib/python3.11/dist-packages (from streamlit) (11.1.0)\n",
            "Requirement already satisfied: protobuf<6,>=3.20 in /usr/local/lib/python3.11/dist-packages (from streamlit) (4.25.6)\n",
            "Requirement already satisfied: pyarrow>=7.0 in /usr/local/lib/python3.11/dist-packages (from streamlit) (17.0.0)\n",
            "Requirement already satisfied: requests<3,>=2.27 in /usr/local/lib/python3.11/dist-packages (from streamlit) (2.32.3)\n",
            "Requirement already satisfied: rich<14,>=10.14.0 in /usr/local/lib/python3.11/dist-packages (from streamlit) (13.9.4)\n",
            "Requirement already satisfied: tenacity<10,>=8.1.0 in /usr/local/lib/python3.11/dist-packages (from streamlit) (9.0.0)\n",
            "Requirement already satisfied: toml<2,>=0.10.1 in /usr/local/lib/python3.11/dist-packages (from streamlit) (0.10.2)\n",
            "Requirement already satisfied: typing-extensions<5,>=4.4.0 in /usr/local/lib/python3.11/dist-packages (from streamlit) (4.12.2)\n",
            "Requirement already satisfied: watchdog<7,>=2.1.5 in /usr/local/lib/python3.11/dist-packages (from streamlit) (6.0.0)\n",
            "Requirement already satisfied: gitpython!=3.1.19,<4,>=3.0.7 in /usr/local/lib/python3.11/dist-packages (from streamlit) (3.1.44)\n",
            "Requirement already satisfied: pydeck<1,>=0.8.0b4 in /usr/local/lib/python3.11/dist-packages (from streamlit) (0.9.1)\n",
            "Requirement already satisfied: tornado<7,>=6.0.3 in /usr/local/lib/python3.11/dist-packages (from streamlit) (6.4.2)\n",
            "Requirement already satisfied: PyYAML>=5.1 in /usr/local/lib/python3.11/dist-packages (from pyngrok) (6.0.2)\n",
            "Requirement already satisfied: jinja2 in /usr/local/lib/python3.11/dist-packages (from altair<6,>=4.0->streamlit) (3.1.5)\n",
            "Requirement already satisfied: jsonschema>=3.0 in /usr/local/lib/python3.11/dist-packages (from altair<6,>=4.0->streamlit) (4.23.0)\n",
            "Requirement already satisfied: narwhals>=1.14.2 in /usr/local/lib/python3.11/dist-packages (from altair<6,>=4.0->streamlit) (1.26.0)\n",
            "Requirement already satisfied: gitdb<5,>=4.0.1 in /usr/local/lib/python3.11/dist-packages (from gitpython!=3.1.19,<4,>=3.0.7->streamlit) (4.0.12)\n",
            "Requirement already satisfied: python-dateutil>=2.8.2 in /usr/local/lib/python3.11/dist-packages (from pandas<3,>=1.4.0->streamlit) (2.8.2)\n",
            "Requirement already satisfied: pytz>=2020.1 in /usr/local/lib/python3.11/dist-packages (from pandas<3,>=1.4.0->streamlit) (2025.1)\n",
            "Requirement already satisfied: tzdata>=2022.7 in /usr/local/lib/python3.11/dist-packages (from pandas<3,>=1.4.0->streamlit) (2025.1)\n",
            "Requirement already satisfied: charset-normalizer<4,>=2 in /usr/local/lib/python3.11/dist-packages (from requests<3,>=2.27->streamlit) (3.4.1)\n",
            "Requirement already satisfied: idna<4,>=2.5 in /usr/local/lib/python3.11/dist-packages (from requests<3,>=2.27->streamlit) (3.10)\n",
            "Requirement already satisfied: urllib3<3,>=1.21.1 in /usr/local/lib/python3.11/dist-packages (from requests<3,>=2.27->streamlit) (2.3.0)\n",
            "Requirement already satisfied: certifi>=2017.4.17 in /usr/local/lib/python3.11/dist-packages (from requests<3,>=2.27->streamlit) (2025.1.31)\n",
            "Requirement already satisfied: markdown-it-py>=2.2.0 in /usr/local/lib/python3.11/dist-packages (from rich<14,>=10.14.0->streamlit) (3.0.0)\n",
            "Requirement already satisfied: pygments<3.0.0,>=2.13.0 in /usr/local/lib/python3.11/dist-packages (from rich<14,>=10.14.0->streamlit) (2.18.0)\n",
            "Requirement already satisfied: smmap<6,>=3.0.1 in /usr/local/lib/python3.11/dist-packages (from gitdb<5,>=4.0.1->gitpython!=3.1.19,<4,>=3.0.7->streamlit) (5.0.2)\n",
            "Requirement already satisfied: MarkupSafe>=2.0 in /usr/local/lib/python3.11/dist-packages (from jinja2->altair<6,>=4.0->streamlit) (3.0.2)\n",
            "Requirement already satisfied: attrs>=22.2.0 in /usr/local/lib/python3.11/dist-packages (from jsonschema>=3.0->altair<6,>=4.0->streamlit) (25.1.0)\n",
            "Requirement already satisfied: jsonschema-specifications>=2023.03.6 in /usr/local/lib/python3.11/dist-packages (from jsonschema>=3.0->altair<6,>=4.0->streamlit) (2024.10.1)\n",
            "Requirement already satisfied: referencing>=0.28.4 in /usr/local/lib/python3.11/dist-packages (from jsonschema>=3.0->altair<6,>=4.0->streamlit) (0.36.2)\n",
            "Requirement already satisfied: rpds-py>=0.7.1 in /usr/local/lib/python3.11/dist-packages (from jsonschema>=3.0->altair<6,>=4.0->streamlit) (0.22.3)\n",
            "Requirement already satisfied: mdurl~=0.1 in /usr/local/lib/python3.11/dist-packages (from markdown-it-py>=2.2.0->rich<14,>=10.14.0->streamlit) (0.1.2)\n",
            "Requirement already satisfied: six>=1.5 in /usr/local/lib/python3.11/dist-packages (from python-dateutil>=2.8.2->pandas<3,>=1.4.0->streamlit) (1.17.0)\n"
          ]
        },
        {
          "output_type": "stream",
          "name": "stderr",
          "text": [
            "UsageError: Line magic function `%%writefile` not found.\n"
          ]
        }
      ]
    },
    {
      "cell_type": "markdown",
      "source": [
        "# **9: Build a Python Website in 15 Minutes With Streamlit**"
      ],
      "metadata": {
        "id": "Y1khEyRRYSvY"
      }
    },
    {
      "cell_type": "code",
      "source": [],
      "metadata": {
        "id": "40JDTGKYYdyW"
      },
      "execution_count": null,
      "outputs": []
    }
  ]
}