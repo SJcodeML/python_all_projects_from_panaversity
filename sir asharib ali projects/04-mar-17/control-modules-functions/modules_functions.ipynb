{
 "cells": [
  {
   "cell_type": "markdown",
   "id": "c72d8f65",
   "metadata": {},
   "source": [
    "What is a Module in Python?\n",
    "A module in Python is a file that contains Python code (functions, classes, variables, or even runnable code) and is used to organize and reuse code efficiently.\n",
    "\n",
    "A module is simply a .py file that can be imported and used in other Python programs.\n",
    "\n",
    "Modules help keep the code modular, readable, and maintainable.\n",
    "\n",
    "Python has built-in modules (like math, random, os) and also allows users to create custom modules."
   ]
  },
  {
   "cell_type": "markdown",
   "id": "6c669afe",
   "metadata": {},
   "source": [
    "Types of Modules in Python\n",
    "1. Built-in Modules (Standard Library)\n",
    "Pre-installed modules in Python.\n",
    "Example: math, random, os, sys\n",
    "Example usage:"
   ]
  },
  {
   "cell_type": "markdown",
   "id": "394c0a1f",
   "metadata": {},
   "source": []
  },
  {
   "cell_type": "code",
   "execution_count": null,
   "id": "1722b93c",
   "metadata": {},
   "outputs": [],
   "source": [
    "import math\n",
    "print(math.sqrt(25))  # Output: 5.0"
   ]
  },
  {
   "cell_type": "markdown",
   "id": "85351370",
   "metadata": {},
   "source": [
    "2. User-Defined Modules (Custom Modules)\n",
    "Any Python file (.py) you create can be used as a module.\n",
    "Example:\n",
    "Create a file called mymodule.py: (use VSCode/Cursor on local computer)"
   ]
  },
  {
   "cell_type": "code",
   "execution_count": null,
   "id": "37bbdcde",
   "metadata": {},
   "outputs": [],
   "source": [
    "def add(a, b):\n",
    "    return a + b\n",
    "\n",
    "# import and use it another script"
   ]
  },
  {
   "cell_type": "code",
   "execution_count": null,
   "id": "d52b2b46",
   "metadata": {},
   "outputs": [],
   "source": [
    "import mymodule\n",
    "print(mymodule.add(5, 3))  # Output: 8"
   ]
  },
  {
   "cell_type": "markdown",
   "id": "1cc0bf5c",
   "metadata": {},
   "source": [
    "3. External Modules (Third-party Libraries)\n",
    "Installed via pip (pip install module_name).\n",
    "Example: numpy, pandas, requests\n",
    "Example usage:"
   ]
  },
  {
   "cell_type": "markdown",
   "id": "bb1451fc",
   "metadata": {},
   "source": []
  },
  {
   "cell_type": "code",
   "execution_count": null,
   "id": "2771638b",
   "metadata": {},
   "outputs": [
    {
     "name": "stdout",
     "output_type": "stream",
     "text": [
      "Defaulting to user installation because normal site-packages is not writeable\n",
      "Requirement already satisfied: requests in c:\\users\\hp\\appdata\\roaming\\python\\python313\\site-packages (2.32.3)\n",
      "Requirement already satisfied: charset-normalizer<4,>=2 in c:\\users\\hp\\appdata\\roaming\\python\\python313\\site-packages (from requests) (3.4.1)\n",
      "Requirement already satisfied: idna<4,>=2.5 in c:\\users\\hp\\appdata\\roaming\\python\\python313\\site-packages (from requests) (3.10)\n",
      "Requirement already satisfied: urllib3<3,>=1.21.1 in c:\\users\\hp\\appdata\\roaming\\python\\python313\\site-packages (from requests) (2.3.0)\n",
      "Requirement already satisfied: certifi>=2017.4.17 in c:\\users\\hp\\appdata\\roaming\\python\\python313\\site-packages (from requests) (2025.1.31)\n",
      "Note: you may need to restart the kernel to use updated packages.\n"
     ]
    }
   ],
   "source": [
    "pip install requests\n"
   ]
  },
  {
   "cell_type": "code",
   "execution_count": 4,
   "id": "0eaca578",
   "metadata": {},
   "outputs": [
    {
     "name": "stdout",
     "output_type": "stream",
     "text": [
      "200\n"
     ]
    }
   ],
   "source": [
    "import requests\n",
    "response = requests.get(\"https://www.example.com\")\n",
    "print(response.status_code)"
   ]
  },
  {
   "cell_type": "markdown",
   "id": "473b8fc3",
   "metadata": {},
   "source": [
    "How to Import a Module in Python?\n",
    "Python provides several ways to import modules:\n",
    "\n",
    "1. Basic Import"
   ]
  },
  {
   "cell_type": "code",
   "execution_count": 6,
   "id": "5f71d9f7",
   "metadata": {},
   "outputs": [
    {
     "name": "stdout",
     "output_type": "stream",
     "text": [
      "3.141592653589793\n"
     ]
    }
   ],
   "source": [
    "import math \n",
    "print(math.pi)"
   ]
  },
  {
   "cell_type": "markdown",
   "id": "d1823ee5",
   "metadata": {},
   "source": [
    "2. Import with Alias (as)"
   ]
  },
  {
   "cell_type": "code",
   "execution_count": null,
   "id": "3b027f09",
   "metadata": {},
   "outputs": [],
   "source": [
    "import numpy as np\n",
    "print(np.array([1, 2, 3]))"
   ]
  },
  {
   "cell_type": "markdown",
   "id": "012022b9",
   "metadata": {},
   "source": [
    "3. Import Specific Functions or Variables (from ... import ...)"
   ]
  },
  {
   "cell_type": "code",
   "execution_count": 7,
   "id": "46f63eea",
   "metadata": {},
   "outputs": [
    {
     "name": "stdout",
     "output_type": "stream",
     "text": [
      "4.0\n",
      "3.141592653589793\n"
     ]
    }
   ],
   "source": [
    "from math import sqrt, pi\n",
    "print(sqrt(16))\n",
    "print(pi)"
   ]
  },
  {
   "cell_type": "code",
   "execution_count": 8,
   "id": "11203a3b",
   "metadata": {},
   "outputs": [
    {
     "name": "stdout",
     "output_type": "stream",
     "text": [
      "4.0\n",
      "3.141592653589793\n"
     ]
    }
   ],
   "source": [
    "from math import sqrt as s, pi as p\n",
    "\n",
    "print(s(16))\n",
    "print(p )"
   ]
  },
  {
   "cell_type": "markdown",
   "id": "3fc0c11e",
   "metadata": {},
   "source": [
    " 4. Import Everything (from module import *) (Not recommended for large modules)**  "
   ]
  },
  {
   "cell_type": "code",
   "execution_count": 9,
   "id": "89ad78f8",
   "metadata": {},
   "outputs": [
    {
     "name": "stdout",
     "output_type": "stream",
     "text": [
      "0.0\n"
     ]
    }
   ],
   "source": [
    "from math import * # wild card\n",
    "print(sin(0))  # Output: 0.0"
   ]
  },
  {
   "cell_type": "code",
   "execution_count": 10,
   "id": "d9c855bc",
   "metadata": {},
   "outputs": [],
   "source": [
    "# Case 1: 'import math' (Lazy-loading)\n",
    "import math  # Only loads the module object\n",
    "# No extra memory used until `math.sqrt()` is called.\n",
    "\n",
    "# Case 2: 'from math import *' (Eager-loading)\n",
    "from math import *  # Loads ALL names (pi, sin, cos, sqrt, ...)\n",
    "# Memory usage increases even if you never use `pi` or `sin`."
   ]
  },
  {
   "cell_type": "markdown",
   "id": "07e69640",
   "metadata": {},
   "source": [
    "What’s Happening in This Namespace Overlap?\n",
    "You’re executing:"
   ]
  },
  {
   "cell_type": "code",
   "execution_count": 11,
   "id": "ab2d173b",
   "metadata": {},
   "outputs": [
    {
     "name": "stdout",
     "output_type": "stream",
     "text": [
      "3.141592653589793\n"
     ]
    }
   ],
   "source": [
    "from math import *\n",
    "from numpy import *\n",
    "print(pi)  # Which `pi` is being printed? math.pi or numpy.pi?"
   ]
  },
  {
   "cell_type": "markdown",
   "id": "f54707c5",
   "metadata": {},
   "source": []
  },
  {
   "cell_type": "markdown",
   "id": "34593c00",
   "metadata": {},
   "source": [
    "This is a classic namespace collision caused by wildcard imports (from ... import *). Here’s what Python does:\n",
    "\n",
    "How Python Resolves the Conflict\n",
    "from math import * → Dumps all of math’s names (e.g., pi, sin, sqrt) into the global namespace.\n",
    "from numpy import * → Dumps all of numpy’s names into the same namespace, overwriting any duplicates.\n",
    "Which pi Wins?\n",
    "The last imported pi takes precedence (in this case, numpy.pi).\n",
    "So, print(pi) will output numpy.pi (≈ 3.141592653589793), not math.pi."
   ]
  },
  {
   "cell_type": "markdown",
   "id": "db58a970",
   "metadata": {},
   "source": [
    "Advantages of Using Modules\n",
    "✔ Code Reusability – Write once, use anywhere.\n",
    "\n",
    "✔ Organization – Keep related functions together.\n",
    "\n",
    "✔ Namespace Management – Prevents variable conflicts.\n",
    "\n",
    "✔ Faster Development – Use existing libraries instead of writing everything from scratch.\n",
    "\n",
    "\n",
    "\n",
    "\n",
    "Understanding Functions in Python\n",
    "A Python function is a block of organized, reusable code that is used to perform a single, related action. Functions provide better modularity for your application and a high degree of code reusing."
   ]
  },
  {
   "cell_type": "code",
   "execution_count": 12,
   "id": "da630256",
   "metadata": {},
   "outputs": [
    {
     "name": "stdout",
     "output_type": "stream",
     "text": [
      "Hello! World\n"
     ]
    }
   ],
   "source": [
    "# This is a global function because it's defined at the top level of the module.\n",
    "def my_function():\n",
    "  print(\"Hello! World\")\n",
    "\n",
    "# The function can be called from anywhere in the module.\n",
    "my_function()"
   ]
  },
  {
   "cell_type": "markdown",
   "id": "f6eeff4f",
   "metadata": {},
   "source": [
    "A global function in Python is a function that’s defined in the main body of a module, rather than inside another function or class. This means that the function is available throughout the module, and if the module is imported into another file, the function can be accessed from there as well.\n",
    "\n",
    "Key Points:\n",
    "Scope:\n",
    "Global functions have a module-level scope. They can be called by any code within that module, and if imported, they can be used elsewhere too.\n",
    "Usage:\n",
    "Global functions are typically used to perform tasks that don't depend on a specific object's state. They’re ideal for utility functions, helper functions, or any code that can be reused in various parts of your program."
   ]
  },
  {
   "cell_type": "markdown",
   "id": "140acb9c",
   "metadata": {},
   "source": [
    "Types of Python Functions\n",
    "Python provides the following types of functions −\n",
    "\n",
    "1) Built-in functions\n",
    "\n",
    "Python's standard library includes number of built-in functions. Some of Python's built-in functions are print(), int(), len(), sum(), etc. These functions are always available, as they are loaded into computer's memory as soon as you start Python interpreter.\n",
    "2) Functions defined in built-in modules\n",
    "\n",
    "The standard library also bundles a number of modules. Each module defines a group of functions. These functions are not readily available. You need to import them into the memory from their respective modules.\n",
    "3) User-defined functions\n",
    "\n",
    "In addition to the built-in functions and functions in the built-in modules, you can also create your own functions. These functions are called user-defined functions.\n"
   ]
  },
  {
   "cell_type": "code",
   "execution_count": 13,
   "id": "1ab16b63",
   "metadata": {},
   "outputs": [
    {
     "name": "stdout",
     "output_type": "stream",
     "text": [
      "Hello! World\n"
     ]
    }
   ],
   "source": [
    "# Built-in functions\n",
    "print(\"Hello! World\")"
   ]
  },
  {
   "cell_type": "code",
   "execution_count": 14,
   "id": "b1f88edc",
   "metadata": {},
   "outputs": [
    {
     "name": "stdout",
     "output_type": "stream",
     "text": [
      "0.705776517122172\n"
     ]
    }
   ],
   "source": [
    "# Functions defined in built-in modules\n",
    "import random\n",
    "print(random.random())"
   ]
  },
  {
   "cell_type": "code",
   "execution_count": null,
   "id": "2733e6ea",
   "metadata": {},
   "outputs": [],
   "source": [
    "# User-defined functions\n",
    "def my_function():\n",
    "  print(\"Hello! Operation Badar\")\n",
    "\n",
    "my_function()"
   ]
  },
  {
   "cell_type": "markdown",
   "id": "cdf2db04",
   "metadata": {},
   "source": [
    "Syntax to Define a Python Function "
   ]
  },
  {
   "cell_type": "code",
   "execution_count": null,
   "id": "10f88181",
   "metadata": {},
   "outputs": [],
   "source": [
    "def function_name( parameters ):\n",
    "   \"function_docstring\"\n",
    "   function_suite\n",
    "   return [expression]"
   ]
  },
  {
   "cell_type": "code",
   "execution_count": null,
   "id": "e322c692",
   "metadata": {},
   "outputs": [],
   "source": [
    "def greetings():\n",
    "   \"This is docstring of greetings function\"\n",
    "   greet = 'Hello World!'\n",
    "   return greet\n",
    "\n",
    "message = greetings()\n",
    "print(message)"
   ]
  },
  {
   "cell_type": "markdown",
   "id": "2fd58c30",
   "metadata": {},
   "source": [
    "Pass by Reference vs Value\n",
    "Python uses pass by object reference. Immutable objects (e.g. integers) are unchanged, while mutable objects (e.g. lists) are modified. Examples:\n",
    "\n",
    "Integers: x = 5 remains 5 after modification.\n",
    "Lists: x = [1, 2, 3] becomes [1, 2, 3, 4] after appending 4.\n",
    "In this example, x remains unchanged after the modify_value function, because it's an immutable integer. However, lst is modified after the modify_list function, because it's a mutable list."
   ]
  },
  {
   "cell_type": "code",
   "execution_count": 15,
   "id": "427a3852",
   "metadata": {},
   "outputs": [
    {
     "name": "stdout",
     "output_type": "stream",
     "text": [
      "Original: 5\n",
      "Within function: 10\n",
      "After function: 5\n"
     ]
    }
   ],
   "source": [
    "def modify_value(x):\n",
    "    x = 10\n",
    "    print(\"Within function:\", x)\n",
    "\n",
    "# Immutable object (integer)\n",
    "x = 5\n",
    "print(\"Original:\", x)\n",
    "modify_value(x)\n",
    "print(\"After function:\", x)"
   ]
  },
  {
   "cell_type": "code",
   "execution_count": 16,
   "id": "1adbe0ba",
   "metadata": {},
   "outputs": [
    {
     "name": "stdout",
     "output_type": "stream",
     "text": [
      "Original: [1, 2, 3]  - ID: 2265158072000\n",
      "Within function:  [1, 2, 3, 4]  - ID: 2265158072000\n",
      "After function: [1, 2, 3, 4]  - ID: 2265158072000\n"
     ]
    }
   ],
   "source": [
    "def modify_list(lst):\n",
    "    lst.append(4)\n",
    "    print(\"Within function: \", lst, \" - ID:\", id(lst))\n",
    "\n",
    "# Mutable object (list)\n",
    "lst = [1, 2, 3]\n",
    "print(\"Original:\", lst, \" - ID:\", id(lst))\n",
    "modify_list(lst)\n",
    "print(\"After function:\", lst, \" - ID:\", id(lst))"
   ]
  },
  {
   "cell_type": "markdown",
   "id": "ab56a33f",
   "metadata": {},
   "source": [
    "Function Arguments\n",
    "Function arguments are the values or variables passed into a function when it is called."
   ]
  },
  {
   "cell_type": "code",
   "execution_count": 17,
   "id": "0fb24f75",
   "metadata": {},
   "outputs": [
    {
     "name": "stdout",
     "output_type": "stream",
     "text": [
      "Hello Ali\n",
      "Hello Omar\n",
      "Hello Usman\n"
     ]
    }
   ],
   "source": [
    "def greetings(name):\n",
    "   \"This is docstring of greetings function\"\n",
    "   print (\"Hello {}\".format(name))\n",
    "   return\n",
    "\n",
    "greetings(\"Ali\")\n",
    "greetings(\"Omar\")\n",
    "greetings(\"Usman\")"
   ]
  },
  {
   "cell_type": "markdown",
   "id": "50363a36",
   "metadata": {},
   "source": [
    "## **Keyword Arguments**\n",
    "\n",
    "Keyword arguments are related to the function calls. When you use keyword arguments in a function call, the caller identifies the arguments by the parameter name. This allows you to skip arguments or place them out of order because the Python interpreter is able to use the keywords provided to match the values with parameters."
   ]
  },
  {
   "cell_type": "code",
   "execution_count": 18,
   "id": "524621f2",
   "metadata": {},
   "outputs": [
    {
     "name": "stdout",
     "output_type": "stream",
     "text": [
      "Name:  Arif\n",
      "Age  50\n"
     ]
    }
   ],
   "source": [
    "def printinfo( name, age ):\n",
    "   \"This prints a passed info into this function\"\n",
    "   print (\"Name: \", name)\n",
    "   print (\"Age \", age)\n",
    "   return;\n",
    "\n",
    "# Now you can call printinfo function\n",
    "printinfo( age=50, name=\"Arif\" )\n",
    "#printinfo(50, \"Arif\" )"
   ]
  },
  {
   "cell_type": "code",
   "execution_count": 19,
   "id": "2102e22c",
   "metadata": {},
   "outputs": [
    {
     "name": "stdout",
     "output_type": "stream",
     "text": [
      "30.0\n",
      "52.0\n",
      "5.0\n"
     ]
    }
   ],
   "source": [
    "def add(x: int,y: int=0) -> float:\n",
    "   return float(x + y)\n",
    "\n",
    "print(float(add(10,20)))\n",
    "\n",
    "print(add(y=50.0, x=2.0)) # type hints are not enforced in Python\n",
    "\n",
    "print(add(x=5))"
   ]
  },
  {
   "cell_type": "markdown",
   "id": "bbd51463",
   "metadata": {},
   "source": [
    "* unpacking iterables\n",
    "In Python, the * operator is used for unpacking iterables (like lists, tuples, or sets) into individual elements. When you use * before a list (or any iterable) in a function call, it unpacks the list and passes its elements as separate positional arguments to the function.\n",
    "\n",
    "Example:"
   ]
  },
  {
   "cell_type": "markdown",
   "id": "90e6655e",
   "metadata": {},
   "source": [
    "Sure! Here’s the explanation in Roman English:\n",
    "\n",
    "Python mein, * operator ek powerful tool hai jo iterables jaise lists, tuples, ya sets ke saath kaam karne ke liye istemal hota hai. Jab aap * ko ek iterable se pehle lagate hain, toh yeh us iterable ke items ko unpack karta hai, aur har item ko alag argument ke roop mein function ko bhejta hai.\n",
    "\n",
    "### Example:\n",
    "\n",
    "Maan lijiye, aapke paas ek function hai jo kai arguments leta hai:\n",
    "\n",
    "```python\n",
    "def greet(name1, name2, name3):\n",
    "    print(f\"Hello, {name1}, {name2}, and {name3}!\")\n",
    "```\n",
    "\n",
    "Agar aapke paas names ka ek list hai aur aap is function ko use karna chahte hain:\n",
    "\n",
    "```python\n",
    "names = [\"Alice\", \"Bob\", \"Charlie\"]\n",
    "greet(*names)\n",
    "```\n",
    "\n",
    "Yahan, `*names` list ko unpack karta hai, toh yeh waise hi hai jaise aap yeh kahte hain: `greet(\"Alice\", \"Bob\", \"Charlie\")`. Phir yeh function print karega:  \n",
    "`Hello, Alice, Bob, and Charlie!`\n",
    "\n",
    "### Key Points:\n",
    "- * operator unpacking ke liye istemal hota hai.\n",
    "- Yeh iterable ke elements ko alag arguments mein spread karta hai.\n",
    "- Yeh feature function calls ko clean aur concise banane ke liye bahut useful hai.\n",
    "\n",
    "Agar aapko aur examples ya explanations chahiye, toh bejhijhak pooch sakte hain!"
   ]
  },
  {
   "cell_type": "code",
   "execution_count": null,
   "id": "0e5217de",
   "metadata": {},
   "outputs": [],
   "source": [
    "def my_sum(*nums):\n",
    "  print(type(nums),\", \", nums)\n",
    "\n",
    "  return sum(nums)\n",
    "\n",
    "print(\"Sum     = \", my_sum(1,2,3,4,5,8,5),\"\\n\")\n",
    "print(\"Sum *[] = \", my_sum(*[1,2,3,4,5,8,5]), \"\\n\") # *  unpacking list\n",
    "print(\"Sum *() = \", my_sum(*(1,2,3,4,5,8,5))) # *  unpacking tuple\n"
   ]
  },
  {
   "cell_type": "markdown",
   "id": "715eabde",
   "metadata": {},
   "source": [
    "## **Default Arguments**\n",
    "A default argument is an argument that assumes a default value if a value is not provided in the function call for that argument.\n"
   ]
  },
  {
   "cell_type": "code",
   "execution_count": 20,
   "id": "42ac4ab8",
   "metadata": {},
   "outputs": [
    {
     "name": "stdout",
     "output_type": "stream",
     "text": [
      "Name:  Arif\n",
      "Age  50\n",
      "Name:  Arif\n",
      "Age  35\n"
     ]
    }
   ],
   "source": [
    "def printinfo( name, age = 35 ):\n",
    "   \"This prints a passed info into this function\"\n",
    "   print (\"Name: \", name)\n",
    "   print (\"Age \", age)\n",
    "   return;\n",
    "\n",
    "# Now you can call printinfo function\n",
    "printinfo( age=50, name=\"Arif\" )\n",
    "printinfo( name=\"Arif\" )"
   ]
  },
  {
   "cell_type": "markdown",
   "id": "d86bef1f",
   "metadata": {},
   "source": [
    "Positional-only arguments\n",
    "Those arguments that can only be specified by their position in the function call is called as Positional-only arguments. They are defined by placing a \"/\" in the function's parameter list after all positional-only parameters.\n",
    "\n",
    "Example\n",
    "\n",
    "In the following example, we have defined two positional-only arguments namely \"x\" and \"y\". This method should be called with positional arguments in the order in which the arguments are declared, otherwise, we will get an error."
   ]
  },
  {
   "cell_type": "markdown",
   "id": "2e7b99c6",
   "metadata": {},
   "source": [
    "Bilkul! Yahaan positional-only arguments ko Roman English mein vyakhya di gayi hai:\n",
    "\n",
    "### Positional-only Arguments\n",
    "\n",
    "Positional-only arguments wo arguments hote hain jo sirf unki position ke zariye function call mein specify kiye ja sakte hain. Inhe function ki parameter list mein saaf karne ke liye, aap ek \"/\" ka istemal karte hain, jo yeh indicate karta hai ki uske baad wale arguments sirf positional arguments hain.\n",
    "\n",
    "### Example:\n",
    "\n",
    "Maan lijiye, aapne ek function define kiya hai jisme do positional-only arguments hain: `x` aur `y`.\n",
    "\n",
    "```python\n",
    "def add(x, y, /):\n",
    "    return x + y\n",
    "```\n",
    "\n",
    "Is function ko aap sirf positional arguments ke saath bulane ki koshish karenge, jaise:\n",
    "\n",
    "```python\n",
    "result = add(3, 5)\n",
    "print(result)  # Output: 8\n",
    "```\n",
    "\n",
    "Yahan, `add(3, 5)` sahi hai, kyunki aapne arguments ko unki position ke hisaab se diya hai.\n",
    "\n",
    "Lekin agar aap try karte hain inhe keyword arguments ke saath specify karne ki, jaise:\n",
    "\n",
    "```python\n",
    "result = add(x=3, y=5)\n",
    "```\n",
    "\n",
    "Toh yeh error dega, kyunki `x` aur `y` ko sirf positional arguments ke roop mein pass karna zaroori hai.\n",
    "\n",
    "### Key Points:\n",
    "- Positional-only arguments ko sirf unki position se hi specify kiya ja sakta hai.\n",
    "- Yeh arguments \"/\" ke baad define kiye jaate hain.\n",
    "- Agar aap inhe keyword arguments se bulane ki koshish karte hain, toh error aayega.\n",
    "\n",
    "Agar aapko aur examples ya details chahiye, toh poochne mein hichkichaiye mat!"
   ]
  },
  {
   "cell_type": "code",
   "execution_count": 21,
   "id": "80de8a0c",
   "metadata": {},
   "outputs": [
    {
     "name": "stdout",
     "output_type": "stream",
     "text": [
      "Evaluating positional-only arguments: \n",
      "6\n"
     ]
    }
   ],
   "source": [
    "def posFun(x, y, /, z):\n",
    "    print(x + y + z)\n",
    "\n",
    "print(\"Evaluating positional-only arguments: \")\n",
    "posFun(1, 2, z=3)\n",
    "\n",
    "# uncomment to see error\n",
    "#posFun(x=1, y=2, z=3)"
   ]
  },
  {
   "cell_type": "code",
   "execution_count": 22,
   "id": "1cb0e125",
   "metadata": {},
   "outputs": [
    {
     "ename": "TypeError",
     "evalue": "posFun() got some positional-only arguments passed as keyword arguments: 'x, y'",
     "output_type": "error",
     "traceback": [
      "\u001b[31m---------------------------------------------------------------------------\u001b[39m",
      "\u001b[31mTypeError\u001b[39m                                 Traceback (most recent call last)",
      "\u001b[36mCell\u001b[39m\u001b[36m \u001b[39m\u001b[32mIn[22]\u001b[39m\u001b[32m, line 2\u001b[39m\n\u001b[32m      1\u001b[39m \u001b[38;5;66;03m# Run to see error\u001b[39;00m\n\u001b[32m----> \u001b[39m\u001b[32m2\u001b[39m \u001b[43mposFun\u001b[49m\u001b[43m(\u001b[49m\u001b[43mx\u001b[49m\u001b[43m=\u001b[49m\u001b[32;43m1\u001b[39;49m\u001b[43m,\u001b[49m\u001b[43m \u001b[49m\u001b[43my\u001b[49m\u001b[43m=\u001b[49m\u001b[32;43m2\u001b[39;49m\u001b[43m,\u001b[49m\u001b[43m \u001b[49m\u001b[43mz\u001b[49m\u001b[43m=\u001b[49m\u001b[32;43m3\u001b[39;49m\u001b[43m)\u001b[49m\n",
      "\u001b[31mTypeError\u001b[39m: posFun() got some positional-only arguments passed as keyword arguments: 'x, y'"
     ]
    }
   ],
   "source": [
    "# Run to see error\n",
    "posFun(x=1, y=2, z=3)"
   ]
  },
  {
   "cell_type": "markdown",
   "id": "8b30cf2d",
   "metadata": {},
   "source": [
    "Error\n",
    "posFun(x=1, y=2, z=3)\n",
    "This means that arguments before the '/' must be specified by their position in the function call and cannot be passed using keyword arguments.\n",
    "\n",
    "x and y are declared before the '/', making them positional-only. When you call posFun(x=1, y=2, z=3), you're attempting to pass x and y as keyword arguments, violating this rule and hence the TypeError is raised."
   ]
  },
  {
   "cell_type": "markdown",
   "id": "71149c9d",
   "metadata": {},
   "source": [
    "Keyword-only arguments\n",
    "Those arguments that must be specified by their name while calling the function is known as Keyword-only arguments. They are defined by placing an asterisk (\"*\") in the function's parameter list before any keyword-only parameters. This type of argument can only be passed to a function as a keyword argument, not a positional argument."
   ]
  },
  {
   "cell_type": "code",
   "execution_count": 23,
   "id": "9b8fda3c",
   "metadata": {},
   "outputs": [
    {
     "name": "stdout",
     "output_type": "stream",
     "text": [
      "Evaluating keyword-only arguments: \n",
      "240\n",
      "240\n"
     ]
    }
   ],
   "source": [
    "def posFun(*, num1, num2, num3):\n",
    "    print(num1 * num2 * num3)\n",
    "\n",
    "print(\"Evaluating keyword-only arguments: \")\n",
    "posFun(num1=6, num2=8, num3=5)\n",
    "\n",
    "posFun(num3=6, num1=8, num2=5)\n",
    "\n",
    "\n",
    "# TypeError: posFun() takes 0 positional arguments but 3 were given\n",
    "#posFun(6, 8, 5)"
   ]
  },
  {
   "cell_type": "markdown",
   "id": "a0406c21",
   "metadata": {},
   "source": [
    "Arbitrary or Variable-length Arguments:\n",
    "YOU CAN AKE MULTIPLE ARGUMENTS\n",
    "You may need to process a function for more arguments than you specified while defining the function. These arguments are called variable-length arguments and are not named in the function definition, unlike required and default arguments.\n",
    "\n",
    "Syntax for a function with non-keyword variable arguments is this −\n",
    "\n",
    "\n",
    "  def functionname([formal_args,] *var_args_tuple ):\n",
    "    \"function_docstring\"\n",
    "    function_suite\n",
    "    return [expression]\n"
   ]
  },
  {
   "cell_type": "code",
   "execution_count": 25,
   "id": "ecf2a3a6",
   "metadata": {},
   "outputs": [
    {
     "name": "stdout",
     "output_type": "stream",
     "text": [
      "Output is: \n",
      "10\n",
      "Output is: \n",
      "70\n",
      "* 60\n",
      "* 50\n",
      "* 70\n",
      "* 90\n"
     ]
    }
   ],
   "source": [
    "def printinfo( arg1, *vartuple ):\n",
    "   \"This prints a variable passed arguments\"\n",
    "   print (\"Output is: \")\n",
    "   print (arg1)\n",
    "   for var in vartuple:\n",
    "      print (\"*\",var)\n",
    "   return;\n",
    "\n",
    "# Now you can call printinfo function\n",
    "printinfo( 10 )\n",
    "printinfo( 70, 60, 50, 70, 90 )"
   ]
  },
  {
   "cell_type": "markdown",
   "id": "c4dac359",
   "metadata": {},
   "source": [
    "Python Function with Return Value\n",
    "The return keyword as the last statement in function definition indicates end of function block, and the program flow goes back to the calling function. Although reduced indent after the last statement in the block also implies return but using explicit return is a good practice.\n",
    "\n",
    "Along with the flow control, the function can also return value of an expression to the calling function. The value of returned expression can be stored in a variable for further processing.\n"
   ]
  },
  {
   "cell_type": "code",
   "execution_count": 26,
   "id": "6a7ca7a6",
   "metadata": {},
   "outputs": [
    {
     "name": "stdout",
     "output_type": "stream",
     "text": [
      "a = 10 b = 20 a+b = 30\n"
     ]
    }
   ],
   "source": [
    "def add(x,y):\n",
    "   z=x+y\n",
    "   return z\n",
    "\n",
    "a=10\n",
    "b=20\n",
    "result = add(a,b)\n",
    "\n",
    "print (\"a = {} b = {} a+b = {}\".format(a, b, result))"
   ]
  },
  {
   "cell_type": "markdown",
   "id": "60f79145",
   "metadata": {},
   "source": [
    "The Anonymous Functions\n",
    "The functions are called anonymous when they are not declared in the standard manner by using the def keyword. Instead, they are defined using the lambda keyword.\n",
    "\n",
    "Syntax\n",
    "The syntax of lambda functions contains only a single statement, which is as follows −\n",
    "\n",
    "lambda [arg1 [,arg2,.....argn]]:expression"
   ]
  },
  {
   "cell_type": "code",
   "execution_count": null,
   "id": "4608bfde",
   "metadata": {},
   "outputs": [],
   "source": [
    "def add_two(x, y):\n",
    "  return x + y\n",
    "\n",
    "my_lambda = lambda x, y:  x + y;\n",
    "\n",
    "print(my_lambda(1,2))"
   ]
  },
  {
   "cell_type": "code",
   "execution_count": 27,
   "id": "3d496efe",
   "metadata": {},
   "outputs": [
    {
     "data": {
      "text/plain": [
       "{'date': 1, 'banana': 2, 'apple': 5, 'cherry': 8}"
      ]
     },
     "execution_count": 27,
     "metadata": {},
     "output_type": "execute_result"
    }
   ],
   "source": [
    "# prompt: sort by value dictionary using lambda function\n",
    "\n",
    "my_dict = {\"apple\": 5, \"banana\": 2, \"cherry\": 8, \"date\": 1}\n",
    "\n",
    "sorted_dict = dict(sorted(my_dict.items(), key=lambda item: item[1]))\n",
    "\n",
    "sorted_dict"
   ]
  },
  {
   "cell_type": "markdown",
   "id": "5904c37e",
   "metadata": {},
   "source": [
    "EXPLANATION OF ABOVE CODE\n",
    "\n",
    "Bilkul! Yahaan hum dictionary ko value ke hisaab se sort karne ka process Roman English mein samjhenge:\n",
    "\n",
    "### Dictionary Sorting by Value\n",
    "\n",
    "Aapke paas ek dictionary hai jiska naam `my_dict` hai:\n",
    "\n",
    "```python\n",
    "my_dict = {\"apple\": 5, \"banana\": 2, \"cherry\": 8, \"date\": 1}\n",
    "```\n",
    "\n",
    "Is dictionary mein fruits ke naam keys hain aur unke corresponding numbers unki values hain.\n",
    "\n",
    "### Sorting Process\n",
    "\n",
    "1. **`sorted()` Function**: Pehle, hum `sorted()` function ka istemal karte hain, jo kisi bhi iterable (is case mein dictionary) ko sort karta hai. `sorted()` function by default keys ko sort karta hai, lekin hum yahan values ke hisaab se sort karna chahte hain.\n",
    "\n",
    "2. **`items()` Method**: Jab aap `my_dict.items()` use karte hain, toh yeh dictionary ki saari key-value pairs ko ek list of tuples mein bana deta hai, jaisa:\n",
    "   ```python\n",
    "   [('apple', 5), ('banana', 2), ('cherry', 8), ('date', 1)]\n",
    "   ```\n",
    "\n",
    "3. **Lambda Function**: Ab, hum ek `key` parameter dete hain `sorted()` function ko, jismein hum ek lambda function istemal karte hain:\n",
    "   ```python\n",
    "   key=lambda item: item[1]\n",
    "   ```\n",
    "\n",
    "   Yahaan `item` ek tuple hota hai, aur `item[1]` us tuple ki value ko represent karta hai. Iska matlab hai ki hum values ke hisaab se sort karna chahte hain.\n",
    "\n",
    "4. **Creating Sorted Dictionary**: Sorted result ko `dict()` function ke saath wrapped karte hain taaki hum ek nayi sorted dictionary bana saken:\n",
    "   ```python\n",
    "   sorted_dict = dict(sorted(my_dict.items(), key=lambda item: item[1]))\n",
    "   ```\n",
    "\n",
    "### Example Output\n",
    "\n",
    "Agar aap yeh code chalayenge, toh `sorted_dict` kuch is tarah dikhega:\n",
    "\n",
    "```python\n",
    "{'date': 1, 'banana': 2, 'apple': 5, 'cherry': 8}\n",
    "```\n",
    "\n",
    "Yaani, values ascending order mein sort ki gayi hain.\n",
    "\n",
    "### Summary\n",
    "\n",
    "- **`my_dict.items()`**: Dictionary ki key-value pairs ko list of tuples mein convert karta hai.\n",
    "- **`sorted()`**: Is list ko sort karta hai, jismein lambda function value ke according sorting ko specify karta hai.\n",
    "- **`dict()`**: Sorted pairs ko wapas ek dictionary mein convert karta hai.\n",
    "\n",
    "Agar aapko aur koi clarification chahiye ya kuch aur samajhna hai, toh pooch sakte hain!"
   ]
  },
  {
   "cell_type": "code",
   "execution_count": null,
   "id": "28fad4a6",
   "metadata": {},
   "outputs": [],
   "source": [
    "# Function definition is here\n",
    "sum = lambda arg1, arg2: arg1 + arg2;\n",
    "\n",
    "# Now you can call sum as a function\n",
    "print (\"Value of total : \", sum( 10, 20 ))\n",
    "print (\"Value of total : \", sum( 50, 20 ))"
   ]
  },
  {
   "cell_type": "markdown",
   "id": "bdac9a83",
   "metadata": {},
   "source": [
    "Scope of Variables\n",
    "All variables in a program may not be accessible at all locations in that program. This depends on where you have declared a variable.\n",
    "\n",
    "The scope of a variable determines the portion of the program where you can access a particular identifier. There are two basic scopes of variables in Python −\n",
    "\n",
    "Global variables\n",
    "\n",
    "Local variables\n",
    "\n",
    "Global vs. Local variables\n",
    "\n",
    "Variables that are defined inside a function body have a local scope, and those defined outside have a global scope.\n",
    "\n",
    "This means that local variables can be accessed only inside the function in which they are declared, whereas global variables can be accessed throughout the program body by all functions. When you call a function, the variables declared inside it are brought into scope."
   ]
  },
  {
   "cell_type": "code",
   "execution_count": 28,
   "id": "ccc485be",
   "metadata": {},
   "outputs": [
    {
     "name": "stdout",
     "output_type": "stream",
     "text": [
      "Inside the function local total :  30\n",
      "Outside the function global total :  0\n"
     ]
    }
   ],
   "source": [
    "total = 0; # This is global variable.\n",
    "# Function definition is here\n",
    "def sum( arg1, arg2 ):\n",
    "   # Add both the parameters and return them.\"\n",
    "   total = arg1 + arg2; # Here total is local variable.\n",
    "   print (\"Inside the function local total : \", total)\n",
    "   return total;\n",
    "\n",
    "# Now you can call sum function\n",
    "sum( 10, 20 );\n",
    "print (\"Outside the function global total : \", total)"
   ]
  },
  {
   "cell_type": "code",
   "execution_count": null,
   "id": "e86bf48b",
   "metadata": {},
   "outputs": [],
   "source": []
  }
 ],
 "metadata": {
  "kernelspec": {
   "display_name": "Python 3",
   "language": "python",
   "name": "python3"
  },
  "language_info": {
   "codemirror_mode": {
    "name": "ipython",
    "version": 3
   },
   "file_extension": ".py",
   "mimetype": "text/x-python",
   "name": "python",
   "nbconvert_exporter": "python",
   "pygments_lexer": "ipython3",
   "version": "3.13.2"
  }
 },
 "nbformat": 4,
 "nbformat_minor": 5
}
