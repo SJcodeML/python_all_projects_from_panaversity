{
  "cells": [
    {
      "cell_type": "markdown",
      "metadata": {
        "id": "view-in-github",
        "colab_type": "text"
      },
      "source": [
        "<a href=\"https://colab.research.google.com/github/SJcodeML/python_all_projects_from_panaversity/blob/main/Untitled5.ipynb\" target=\"_parent\"><img src=\"https://colab.research.google.com/assets/colab-badge.svg\" alt=\"Open In Colab\"/></a>"
      ]
    },
    {
      "cell_type": "markdown",
      "metadata": {
        "id": "IZZhMDuHcOmI"
      },
      "source": [
        "AIRTHMETIC OPERATORS :who performs mathematical operations (actions)\n",
        "OPERANDS : who let you perform operations on them"
      ]
    },
    {
      "cell_type": "code",
      "execution_count": null,
      "metadata": {
        "id": "A_RL7ePMVKtR"
      },
      "outputs": [],
      "source": [
        "a: int = 10\n",
        "b: int = 3\n",
        "print(\"a + b  = \", a + b)   # 13 Addition\n",
        "print(\"a - b  = \", a - b)   # 7 Subtraction\n",
        "print(\"a * b  = \", a * b)   # 30 Multiplication\n",
        "print(\"a / b  = \", a / b)   # 3.3333333333333335 division\n",
        "print(\"a // b = \", a // b)  # 3 Floor Division\n",
        "print(\"a % b  = \", a % b)   # 1 Modulus (remainder) shift 5\n",
        "print(\"a ** b  = \", a ** b)  # 1000 Exponentiation (10 * 10 * 10)  shift 8"
      ]
    },
    {
      "cell_type": "code",
      "execution_count": null,
      "metadata": {
        "colab": {
          "base_uri": "https://localhost:8080/"
        },
        "id": "-uOYHkLMVZ88",
        "outputId": "bb739718-0abf-4d99-9344-4a8b129b4d16"
      },
      "outputs": [
        {
          "name": "stdout",
          "output_type": "stream",
          "text": [
            "a+b =  29\n"
          ]
        }
      ],
      "source": [
        "x = 25\n",
        "y = 4\n",
        "print (\"a+b = \" , x+y)"
      ]
    },
    {
      "cell_type": "code",
      "execution_count": null,
      "metadata": {
        "colab": {
          "base_uri": "https://localhost:8080/"
        },
        "id": "Ex4j1Km4V3uT",
        "outputId": "20c7211d-9620-44a7-d31a-3a9819c8ccc6"
      },
      "outputs": [
        {
          "name": "stdout",
          "output_type": "stream",
          "text": [
            "a - b =  4\n"
          ]
        }
      ],
      "source": [
        "a = 44\n",
        "b = 40\n",
        "print(\"a - b = \" , a - b)"
      ]
    },
    {
      "cell_type": "code",
      "execution_count": null,
      "metadata": {
        "colab": {
          "base_uri": "https://localhost:8080/"
        },
        "id": "JjAG1hGnXCF1",
        "outputId": "60d3e805-aba3-4791-ef61-496de0ab4121"
      },
      "outputs": [
        {
          "name": "stdout",
          "output_type": "stream",
          "text": [
            "c * d =  20\n"
          ]
        }
      ],
      "source": [
        "c = 4\n",
        "d = 5\n",
        "print (\"c * d = \" , c * d)"
      ]
    },
    {
      "cell_type": "code",
      "execution_count": null,
      "metadata": {
        "colab": {
          "base_uri": "https://localhost:8080/"
        },
        "id": "7CyT8qzpXm6v",
        "outputId": "9df72c02-1aaa-4f8c-8586-da574c07376d"
      },
      "outputs": [
        {
          "name": "stdout",
          "output_type": "stream",
          "text": [
            "f / d =  1.0\n",
            "when we want a single value (floor division) so we use //\n",
            "f // d =  1\n"
          ]
        }
      ],
      "source": [
        "f = 4\n",
        "d = 4\n",
        "\n",
        "print(\"f / d = \" , f / d)\n",
        "\n",
        "print (\"when we want a single value (floor division) so we use //\")\n",
        "\n",
        "#example\n",
        "\n",
        "print(\"f // d = \" , f // d)"
      ]
    },
    {
      "cell_type": "code",
      "execution_count": null,
      "metadata": {
        "colab": {
          "base_uri": "https://localhost:8080/"
        },
        "id": "Q6S7r2QbYDlK",
        "outputId": "11c45610-b709-462c-bc97-5ef9e08b9054"
      },
      "outputs": [
        {
          "name": "stdout",
          "output_type": "stream",
          "text": [
            "f % d =  1\n"
          ]
        }
      ],
      "source": [
        "f = 5\n",
        "d = 4\n",
        "print(\"f % d = \" , f % d)"
      ]
    },
    {
      "cell_type": "code",
      "execution_count": null,
      "metadata": {
        "colab": {
          "base_uri": "https://localhost:8080/"
        },
        "id": "E2T0NDcyYo3N",
        "outputId": "bf57efe3-885b-4745-872c-66caf1bd4f82"
      },
      "outputs": [
        {
          "name": "stdout",
          "output_type": "stream",
          "text": [
            "g % h =  3\n"
          ]
        }
      ],
      "source": [
        "g = 19\n",
        "h = 4\n",
        "print(\"g % h = \" , g % h)"
      ]
    },
    {
      "cell_type": "code",
      "execution_count": null,
      "metadata": {
        "colab": {
          "base_uri": "https://localhost:8080/"
        },
        "id": "UcoAQAb-Y1Bv",
        "outputId": "c0ce1a46-0f4e-4fa3-ea94-18a9ceeeee4f"
      },
      "outputs": [
        {
          "name": "stdout",
          "output_type": "stream",
          "text": [
            "y % z =  1\n"
          ]
        }
      ],
      "source": [
        "y =  25\n",
        "z = 2\n",
        "print(\"y % z = \" , y %z)"
      ]
    },
    {
      "cell_type": "code",
      "execution_count": null,
      "metadata": {
        "colab": {
          "base_uri": "https://localhost:8080/"
        },
        "id": "NKzzlHerZCn2",
        "outputId": "f7f5573d-9576-43a5-dac5-eb849852a641"
      },
      "outputs": [
        {
          "name": "stdout",
          "output_type": "stream",
          "text": [
            "a ** b  =  2401\n"
          ]
        }
      ],
      "source": [
        "a = 7\n",
        "b = 4\n",
        "\n",
        "\n",
        "print(\"a ** b  = \", a ** b)"
      ]
    },
    {
      "cell_type": "code",
      "execution_count": null,
      "metadata": {
        "id": "r-IFQ5qTaG6v"
      },
      "outputs": [],
      "source": []
    },
    {
      "cell_type": "markdown",
      "metadata": {
        "id": "XlxpOIP3eWbz"
      },
      "source": [
        "2. Comparison (Relational) Operators\n",
        "Used to compare two values.\n",
        "\n",
        "\n",
        "Operator\tName\tExample\n",
        "==\tEqual\t5 == 5 → True\n",
        "!=\tNot equal\t5 != 3 → True\n",
        ">\tGreater than\t5 > 3 → True\n",
        "<\tLess than\t5 < 3 → False\n",
        ">=\tGreater than or equal\t5 >= 5 → True\n",
        "<=\tLess than or equal\t5 <= 3 → False\n"
      ]
    },
    {
      "cell_type": "code",
      "execution_count": null,
      "metadata": {
        "colab": {
          "base_uri": "https://localhost:8080/"
        },
        "id": "-S29EJkffmqa",
        "outputId": "8ae73f65-fc63-4c82-9d08-748d9d9d3e79"
      },
      "outputs": [
        {
          "name": "stdout",
          "output_type": "stream",
          "text": [
            "False\n"
          ]
        }
      ],
      "source": [
        "a = 9\n",
        "b = 8\n",
        "\n",
        "print(a==b)"
      ]
    },
    {
      "cell_type": "code",
      "execution_count": null,
      "metadata": {
        "colab": {
          "base_uri": "https://localhost:8080/"
        },
        "id": "doLrKgjVf0b_",
        "outputId": "256e508c-452d-4d85-94cf-40ff16a910f5"
      },
      "outputs": [
        {
          "name": "stdout",
          "output_type": "stream",
          "text": [
            "True\n"
          ]
        }
      ],
      "source": [
        "a = 9\n",
        "b = 9\n",
        "print ( a == b)"
      ]
    },
    {
      "cell_type": "code",
      "execution_count": null,
      "metadata": {
        "colab": {
          "base_uri": "https://localhost:8080/"
        },
        "id": "IqVXsZHHgJWX",
        "outputId": "04bcf3fd-a9c7-432e-a437-b883baf6730c"
      },
      "outputs": [
        {
          "name": "stdout",
          "output_type": "stream",
          "text": [
            "True\n"
          ]
        }
      ],
      "source": [
        "f  = 6\n",
        "a =  6\n",
        "print(f == a)"
      ]
    },
    {
      "cell_type": "code",
      "execution_count": null,
      "metadata": {
        "colab": {
          "background_save": true,
          "base_uri": "https://localhost:8080/"
        },
        "id": "03Vc7dF4gdEv",
        "outputId": "83086f9e-1671-4f5e-b87b-50d4e82c5f4d"
      },
      "outputs": [
        {
          "name": "stdout",
          "output_type": "stream",
          "text": [
            "False\n"
          ]
        }
      ],
      "source": [
        "g = 9\n",
        "h = 5\n",
        "print(g == h)"
      ]
    },
    {
      "cell_type": "code",
      "execution_count": null,
      "metadata": {
        "id": "oXkW38XigiUj"
      },
      "outputs": [],
      "source": []
    }
  ],
  "metadata": {
    "colab": {
      "provenance": [],
      "authorship_tag": "ABX9TyNcPEcBFnrLK1HT5E7ceVuq",
      "include_colab_link": true
    },
    "kernelspec": {
      "display_name": "Python 3",
      "name": "python3"
    },
    "language_info": {
      "name": "python"
    }
  },
  "nbformat": 4,
  "nbformat_minor": 0
}